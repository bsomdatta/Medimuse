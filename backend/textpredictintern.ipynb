{
 "cells": [
  {
   "cell_type": "code",
   "execution_count": 193,
   "metadata": {
    "executionInfo": {
     "elapsed": 4,
     "status": "ok",
     "timestamp": 1750055366913,
     "user": {
      "displayName": "2022ITB018 2022ITB018_SOMDATTA",
      "userId": "01276081353466704944"
     },
     "user_tz": -330
    },
    "id": "OUpaUPZET7Fc"
   },
   "outputs": [],
   "source": [
    "import pandas as pd"
   ]
  },
  {
   "cell_type": "code",
   "execution_count": 194,
   "metadata": {
    "executionInfo": {
     "elapsed": 46,
     "status": "ok",
     "timestamp": 1750055367989,
     "user": {
      "displayName": "2022ITB018 2022ITB018_SOMDATTA",
      "userId": "01276081353466704944"
     },
     "user_tz": -330
    },
    "id": "ktm20AVMUfaR"
   },
   "outputs": [],
   "source": [
    "df = pd.read_csv('./2Training.csv')"
   ]
  },
  {
   "cell_type": "code",
   "execution_count": 195,
   "metadata": {
    "executionInfo": {
     "elapsed": 8,
     "status": "ok",
     "timestamp": 1750055368910,
     "user": {
      "displayName": "2022ITB018 2022ITB018_SOMDATTA",
      "userId": "01276081353466704944"
     },
     "user_tz": -330
    },
    "id": "pvhLqVlR70JZ"
   },
   "outputs": [],
   "source": [
    "def bmi_pred(val) -> list:\n",
    "    if (val <= 20):\n",
    "        return [\"Yoga (focus on flexibility and strength, 30 minutes)\", \"Light strength training (bodyweight and resistance bands, 2-3 times per week)\", \"Pilates (core strengthening, 20-30 minutes)\", \"Brisk walking (20-30 minutes)\", \"Cycling (low-intensity, 20-30 minutes)\", \"Swimming (gentle strokes, 30 minutes)\", \"Tai Chi (for balance and relaxation)\", \"Resistance exercises (to build muscle mass)\"]\n",
    "    elif ((val > 20) and (val <= 25)):\n",
    "        return [\"Brisk walking (30-45 minutes)\", \"Cycling (moderate intensity, 30 minutes)\", \"Swimming (laps or water aerobics, 30-40 minutes)\", \"Bodyweight exercises (squats, lunges, push-ups, 3 sets of 10-15 reps)\", \"Strength training (light weights, full-body routine, 2-3 times per week)\", \"Jump rope (10-15 minutes with breaks)\", \"Yoga or Pilates (for flexibility and core strength)\", \"HIIT (low-impact variations like step-ups and modified burpees, 20-30 minutes)\"]\n",
    "    elif (val > 25):\n",
    "        return [\"Walking (45-60 minutes, moderate pace)\", \"Elliptical trainer (low-impact cardio, 30 minutes)\", \"Cycling (stationary bike, 30-40 minutes)\", \"Swimming (water aerobics or gentle laps, 30-45 minutes)\", \"Strength training (moderate weights, full-body, 2-3 times per week)\", \"Low-impact HIIT (step-ups, modified burpees, 20-25 minutes)\", \"Resistance band exercises (for strength without strain)\", \"Chair exercises (if mobility is an issue)\"]"
   ]
  },
  {
   "cell_type": "code",
   "execution_count": 141,
   "metadata": {
    "executionInfo": {
     "elapsed": 182,
     "status": "ok",
     "timestamp": 1750055392527,
     "user": {
      "displayName": "2022ITB018 2022ITB018_SOMDATTA",
      "userId": "01276081353466704944"
     },
     "user_tz": -330
    },
    "id": "pDTNZ_tw70Jl"
   },
   "outputs": [],
   "source": [
    "dic0 = {\n",
    "    \"disease_name\": \"(Vertigo) Paroxysmal Positional Vertigo\",\n",
    "    \"description\": \"Paroxysmal Positional Vertigo (PPV), also known as Benign Paroxysmal Positional Vertigo (BPPV), is a common inner ear disorder causing brief episodes of vertigo—a spinning sensation—triggered by changes in head position. It occurs due to displaced calcium particles in the inner ear canals. Though not serious, it can affect balance and is treatable with specific maneuvers.\",\n",
    "    \"medication\": [\"Meclizine\", \"Diazepam\", \"Betahistine\", \"Vestibular rehabilitation therapy\"],\n",
    "    \"precautions\": [\"Avoid sudden head movements\", \"Sleep with your head slightly elevated\", \"Stay hydrated\", \"Reduce caffeine and alcohol intake\"],\n",
    "    \"things_to_do_now\": [\"Sit down immediately if you feel dizzy\", \"Perform Epley maneuver under guidance\", \"Consult an ENT specialist\", \"Avoid driving or operating machinery if dizzy\"]}\n",
    "dic1 = {\n",
    "    \"disease_name\": \"AIDS\",\n",
    "    \"description\": \"AIDS (Acquired Immunodeficiency Syndrome) is a condition caused by the Human Immunodeficiency Virus (HIV), which severely compromises the immune system. It makes the body highly susceptible to infections and illnesses, leading to progressive health deterioration. AIDS develops during advanced stages of untreated HIV and remains a global health challenge due to its impact on affected individuals and communities.\",\n",
    "    \"medication\": [\"Antiretroviral therapy (ART)\", \"Protease inhibitors (e.g., Ritonavir, Lopinavir)\", \"Nucleoside reverse transcriptase inhibitors (NRTIs)\", \"Non-nucleoside reverse transcriptase inhibitors (NNRTIs)\"],\n",
    "    \"precautions\": [\"Practice safe sex\", \"Avoid sharing needles\", \"Regular HIV testing\", \"Follow ART regimen strictly\"],\n",
    "    \"things_to_do_now\": [\"Consult an HIV specialist\", \"Get tested if exposed to risk factors\", \"Strengthen immunity with a balanced diet\", \"Join a support group for mental well-being\"]}\n",
    "dic2 = {\n",
    "    \"disease_name\": \"Acne\",\n",
    "    \"description\": \"Acne is a skin condition where hair follicles become clogged with oil and dead skin cells, resulting in pimples, blackheads, whiteheads, or cysts. It often appears on the face, chest, back, and shoulders and is influenced by factors like hormones, genetics, and skin care habits. Commonly seen in teenagers, acne can persist into adulthood and varies in severity.\",\n",
    "    \"medication\": [\"Benzoyl peroxide\", \"Salicylic acid\", \"Topical retinoids (e.g., Tretinoin)\", \"Oral antibiotics (e.g., Doxycycline, Minocycline)\"],\n",
    "    \"precautions\": [\"Keep skin clean and hydrated\", \"Avoid touching your face\", \"Use non-comedogenic skincare products\", \"Reduce dairy and high-glycemic foods\"],\n",
    "    \"things_to_do_now\": [\"Wash your face with a mild cleanser\", \"Apply prescribed acne treatment\", \"Avoid popping pimples\", \"Consult a dermatologist for severe acne\"]}\n",
    "dic3 = {\n",
    "    \"disease_name\": \"Alcoholic Hepatitis\",\n",
    "    \"description\": \"Alcoholic Hepatitis is an inflammatory condition of the liver caused by excessive alcohol consumption over time. It damages liver cells and impairs liver function, leading to symptoms such as jaundice, abdominal pain, nausea, and fatigue. The severity of alcoholic hepatitis can vary, with more severe cases posing significant health risks and affecting overall well-being.\",\n",
    "    \"medication\": [\"Corticosteroids (e.g., Prednisolone)\", \"Pentoxifylline\", \"Liver-protective supplements (e.g., S-Adenosylmethionine)\"],\n",
    "    \"precautions\": [\"Stop alcohol consumption immediately\", \"Maintain a balanced diet rich in vitamins\", \"Monitor liver function regularly\", \"Stay hydrated\"],\n",
    "    \"things_to_do_now\": [\"Seek immediate medical attention\", \"Follow a liver-friendly diet\", \"Avoid medications that strain the liver\", \"Consider alcohol rehabilitation programs\"]}\n",
    "dic4 = {\n",
    "    \"disease_name\": \"Allergy\",\n",
    "    \"description\": \"An allergy is an immune system reaction to substances called allergens, which are typically harmless to most people. Common allergens include pollen, dust, certain foods, insect stings, or animal dander. Allergic reactions can manifest as sneezing, itching, skin rashes, or breathing difficulties and vary in severity depending on the individual's sensitivity. It affects daily life and requires awareness of triggers.\",\n",
    "    \"medication\": [\"Antihistamines (e.g., Loratadine, Cetirizine)\", \"Decongestants\", \"Corticosteroids\", \"Epinephrine (for severe reactions)\"],\n",
    "    \"precautions\": [\"Avoid known allergens\", \"Use air purifiers\", \"Wear masks in dusty environments\", \"Keep antihistamines handy\"],\n",
    "    \"things_to_do_now\": [\"Take antihistamines if symptoms appear\", \"Seek immediate help for severe reactions\", \"Get an allergy test to identify triggers\", \"Follow an allergen-free diet if necessary\"]}\n",
    "dic5 = {\n",
    "    \"disease_name\": \"Arthritis\",\n",
    "    \"description\": \"Arthritis refers to a group of conditions causing inflammation and stiffness in the joints, leading to pain and reduced mobility. Common types include osteoarthritis and rheumatoid arthritis, each with distinct causes and symptoms. Arthritis can affect one or multiple joints, often worsening over time, and significantly impacts the quality of life for those who experience it.\",\n",
    "    \"medication\": [\"NSAIDs (e.g., Ibuprofen, Naproxen)\", \"Corticosteroids\", \"Disease-modifying antirheumatic drugs (DMARDs)\", \"Biologic agents\"],\n",
    "    \"precautions\": [\"Maintain a healthy weight\", \"Exercise regularly but gently\", \"Apply heat or cold therapy\", \"Avoid excessive joint strain\"],\n",
    "    \"things_to_do_now\": [\"Consult a rheumatologist\", \"Take pain relief medication if needed\", \"Follow a joint-friendly diet\", \"Perform low-impact exercises like swimming\"]}\n",
    "dic6 = {\n",
    "    \"disease_name\": \"Bronchial Asthma\",\n",
    "    \"description\": \"Bronchial Asthma is a chronic respiratory condition characterized by inflammation and narrowing of the airways. This leads to episodes of wheezing, coughing, shortness of breath, and chest tightness, often triggered by allergens, exercise, or environmental factors. Asthma varies in severity and can significantly impact daily activities if not managed effectively. It is common worldwide and affects people of all ages.\",\n",
    "    \"medication\": [\"Bronchodilators (e.g., Albuterol, Salmeterol)\", \"Corticosteroids (e.g., Budesonide, Fluticasone)\", \"Leukotriene modifiers\", \"Theophylline\"],\n",
    "    \"precautions\": [\"Avoid allergens and irritants\", \"Use inhalers as prescribed\", \"Maintain indoor air quality\", \"Stay hydrated\"],\n",
    "    \"things_to_do_now\": [\"Use a rescue inhaler if shortness of breath occurs\", \"Monitor peak flow levels\", \"Seek emergency care if symptoms worsen\", \"Stay away from smoke and strong odors\"]}\n",
    "dic7 = {\n",
    "    \"disease_name\": \"Cervical Spondylosis\",\n",
    "    \"description\": \"Cervical Spondylosis is a common age-related condition affecting the neck's spinal discs and joints. It results from wear and tear over time, leading to symptoms like neck pain, stiffness, and reduced mobility. In severe cases, it may cause nerve compression, resulting in tingling, weakness, or coordination issues. This condition is prevalent among older adults and progresses gradually.\",\n",
    "    \"medication\": [\"NSAIDs\", \"Muscle relaxants\", \"Physical therapy\", \"Corticosteroid injections\"],\n",
    "    \"precautions\": [\"Maintain good posture\", \"Do neck strengthening exercises\", \"Use a supportive pillow\", \"Avoid prolonged screen time\"],\n",
    "    \"things_to_do_now\": [\"Apply heat or cold therapy\", \"Take pain relief medication\", \"Consult an orthopedic specialist\", \"Perform gentle neck stretches\"]}\n",
    "dic8 = {\n",
    "    \"disease_name\": \"Chicken Pox\",\n",
    "    \"description\": \"Chickenpox is a contagious viral infection caused by the varicella-zoster virus. Chickenpox is a highly contagious viral infection that causes an itchy skin rash with red spots or fluid-filled blisters, often starting on the chest, back, and face.It is usually accompanied by fever, fatigue, and body aches. The rash typically spreads across the body in stages. Chickenpox is easily transmitted through direct contact or airborne particles and generally resolves within a few weeks.\",\n",
    "    \"medication\": [\"Antiviral drugs (e.g., Acyclovir)\", \"Antihistamines\", \"Calamine lotion\", \"Paracetamol for fever\"],\n",
    "    \"precautions\": [\"Avoid scratching blisters\", \"Stay isolated to prevent spreading\", \"Keep skin cool and hydrated\", \"Maintain good hygiene\"],\n",
    "    \"things_to_do_now\": [\"Take antiviral medication if prescribed\", \"Drink plenty of fluids\", \"Apply calamine lotion for itch relief\", \"Rest until symptoms subside\"]}\n",
    "dic9 = {\n",
    "    \"disease_name\": \"Chronic cholestasis\",\n",
    "    \"description\" : \"Chronic cholestasis is a condition where bile flow from the liver is persistently impaired, leading to the accumulation of bile acids in the bloodstream. This can cause symptoms such as jaundice, itching, dark urine, and pale stools. Over time, it may result in liver inflammation, scarring, and nutrient absorption issues, significantly affecting overall health and well-being.\",\n",
    "    \"medication\" : [],\n",
    "    \"precautions\": [],\n",
    "    \"things_to_do_now\": []}\n",
    "dic10 = {\n",
    "    \"disease_name\": \"Common Cold\",\n",
    "    \"description\" : \"The common cold is a viral infection that primarily affects the upper respiratory tract, including the nose and throat. It is highly contagious and spreads through droplets or contact with contaminated surfaces. Symptoms often include a runny nose, sneezing, sore throat, mild cough, and fatigue. The condition is usually mild and resolves within a week.\",\n",
    "    \"medication\" : [],\n",
    "    \"precautions\": [],\n",
    "    \"things_to_do_now\": []}\n",
    "dic11 = {\n",
    "    \"disease_name\": \"Dengue\",\n",
    "    \"description\": \"Dengue is a mosquito-borne viral infection caused by the dengue virus, transmitted primarily by Aedes mosquitoes. It is prevalent in tropical and subtropical regions. Symptoms include high fever, severe headache, joint and muscle pain, rash, and nausea. While many cases are mild, dengue can occasionally progress to severe forms, posing significant health risks. It remains a major public health concern globally.\",\n",
    "    \"medication\": [\"Paracetamol for fever\", \"Intravenous fluids for dehydration\",\"Platelet transfusion (if needed)\"],\n",
    "    \"precautions\": [\"Use mosquito repellents\", \"Wear protective clothing\", \"Avoid stagnant water\", \"Rest and stay hydrated\"],\n",
    "    \"things_to_do_now\": [\"Monitor platelet count regularly\", \"Drink plenty of fluids\", \"Avoid NSAIDs like aspirin\", \"Seek immediate medical care if symptoms worsen\"]}\n",
    "dic12 = {\n",
    "    \"disease_name\": \"Diabetes\",\n",
    "    \"description\": \"Diabetes is a chronic metabolic disorder characterized by high blood sugar levels due to the body's inability to produce or effectively use insulin. It affects how the body processes glucose, leading to symptoms such as frequent urination, excessive thirst, fatigue, and blurred vision. Diabetes can result in long-term health complications if not properly managed.\",\n",
    "    \"medication\": [\"Insulin therapy\", \"Metformin\", \"Sulfonylureas (e.g., Glipizide, Glyburide)\", \"SGLT2 inhibitors (e.g., Empagliflozin)\"],\n",
    "    \"precautions\": [\"Monitor blood sugar levels regularly\", \"Follow a low-carb, high-fiber diet\", \"Exercise regularly\", \"Avoid excessive sugar intake\"],\n",
    "    \"things_to_do_now\": [\"Check blood glucose levels\", \"Take prescribed medication on time\", \"Stay hydrated\", \"Consult a doctor if blood sugar remains high\"]}\n",
    "dic13 = {\n",
    "    \"disease_name\": \"Dimorphic Hemorrhoids (Piles)\",\n",
    "    \"description\": \"Hemorrhoids, commonly known as piles, are swollen blood vessels in the rectal or anal area. They can be internal (inside the rectum) or external (around the anus). Symptoms include pain, itching, swelling, and occasional bleeding during bowel movements. Hemorrhoids are often linked to factors like straining, prolonged sitting, or pregnancy, and they vary in severity and discomfort.\",\n",
    "    \"medication\": [\"Topical ointments (e.g., Hydrocortisone)\", \"Pain relievers (e.g., Ibuprofen)\", \"Laxatives (for stool softening)\", \"Minimally invasive procedures (if necessary)\"],\n",
    "    \"precautions\": [\"Eat a high-fiber diet\", \"Drink plenty of water\", \"Avoid prolonged sitting\", \"Practice good hygiene\"],\n",
    "    \"things_to_do_now\": [\"Apply cold compress for pain relief\", \"Take sitz baths\", \"Use over-the-counter hemorrhoid creams\", \"Consult a doctor if symptoms persist\"]}\n",
    "dic14 = {\n",
    "    \"disease_name\": \"Drug Reaction\",\n",
    "    \"description\": \"A drug reaction refers to an unintended and harmful response to a medication when taken at standard doses. These reactions can range from mild symptoms like rashes or nausea to severe complications affecting organs or bodily functions. Drug reactions may result from individual sensitivities, incorrect dosages, or interactions with other substances, highlighting the importance of careful medication use.\",\n",
    "    \"medication\": [\"Antihistamines (e.g., Diphenhydramine)\", \"Corticosteroids (for severe reactions)\", \"Epinephrine (for anaphylaxis)\"],\n",
    "    \"precautions\": [\"Avoid known allergens\", \"Inform doctors about previous reactions\", \"Read medication labels carefully\", \"Monitor for any unusual symptoms\"],\n",
    "    \"things_to_do_now\": [\"Discontinue the suspected medication\", \"Take antihistamines for mild reactions\", \"Seek emergency care for severe reactions\", \"Report the reaction to a healthcare provider\"]}\n",
    "dic15 = {\n",
    "    \"disease_name\": \"Fungal Infection\",\n",
    "    \"description\": \"Fungal infections, also known as mycoses, are caused by fungi that invade the skin, nails, or mucous membranes. They can also affect internal organs in severe cases. Common types include athlete's foot, ringworm, and yeast infections. Symptoms vary but often include itching, redness, and skin changes. Fungal infections are widespread and can be contagious, spreading through contact or environmental exposure.\",\n",
    "    \"medication\": [\"Topical antifungal creams (e.g., Clotrimazole)\", \"Oral antifungals (e.g., Fluconazole)\", \"Antiseptic powders\"],\n",
    "    \"precautions\": [\"Keep affected areas clean and dry\", \"Avoid sharing personal items\", \"Wear breathable fabrics\", \"Use antifungal soaps if prone to infections\"],\n",
    "    \"things_to_do_now\": [\"Apply antifungal medication\", \"Avoid scratching the affected area\", \"Change damp clothing frequently\", \"Consult a doctor if infection spreads\"]}\n",
    "dic16 = {\n",
    "    \"disease_name\": \"GERD\",\n",
    "    \"description\": \"Gastroesophageal Reflux Disease (GERD) is a chronic condition where stomach acid frequently flows back into the esophagus, causing irritation. Symptoms include heartburn, chest discomfort, regurgitation of food or sour liquid, and difficulty swallowing. GERD can significantly impact daily life and is often triggered by certain foods, lifestyle factors, or anatomical issues affecting the lower esophageal sphincter.\",\n",
    "    \"medication\": [\"Proton pump inhibitors (e.g., Omeprazole)\", \"H2 blockers (e.g., Ranitidine)\", \"Antacids\"],\n",
    "    \"precautions\": [\"Avoid spicy and acidic foods\", \"Eat smaller meals\", \"Do not lie down immediately after eating\", \"Elevate the head while sleeping\"],\n",
    "    \"things_to_do_now\": [\"Take prescribed antacids\", \"Drink plenty of water\", \"Avoid smoking and alcohol\", \"Consult a doctor if symptoms persist\"]}\n",
    "dic17 = {\n",
    "    \"disease_name\": \"Gastroenteritis\",\n",
    "    \"description\": \"Gastroenteritis is an inflammation of the stomach and intestines, commonly caused by viruses, bacteria, or parasites. It leads to symptoms like diarrhea, vomiting, abdominal cramps, and fever. Often referred to as \\\"stomach flu,\\\" it spreads easily through contaminated food, water, or close contact. Gastroenteritis can disrupt daily activities but usually resolves within a few days.\",\n",
    "    \"medication\": [\"Oral rehydration salts (ORS)\", \"Antidiarrheal medications\", \"Probiotics\"],\n",
    "    \"precautions\": [\"Stay hydrated\", \"Wash hands frequently\", \"Avoid contaminated food and water\", \"Rest and recover fully\"],\n",
    "    \"things_to_do_now\": [\"Drink ORS to prevent dehydration\", \"Eat bland foods (e.g., rice, toast)\", \"Avoid dairy and fatty foods\", \"Seek medical help if symptoms worsen\"]}\n",
    "dic18 = {\n",
    "    \"disease_name\": \"Heart Attack\",\n",
    "    \"description\": \"A heart attack, or myocardial infarction, occurs when blood flow to the heart is blocked, often due to a buildup of fatty deposits (plaques) in the coronary arteries. This blockage damages heart muscle tissue, leading to symptoms like chest pain, shortness of breath, nausea, and fatigue. It is a serious medical condition requiring immediate attention to prevent severe complications.\",\n",
    "    \"medication\": [\"Aspirin\", \"Nitroglycerin\", \"Beta-blockers\", \"Clot-busting drugs (Thrombolytics)\"],\n",
    "    \"precautions\": [\"Maintain a heart-healthy diet\", \"Exercise regularly\", \"Control blood pressure and cholesterol\", \"Avoid smoking and excessive alcohol\"],\n",
    "    \"things_to_do_now\": [\"Call emergency services immediately\", \"Chew aspirin (if recommended by a doctor)\", \"Stay calm and avoid exertion\", \"Follow-up with a cardiologist\"]}\n",
    "dic19 = {\n",
    "    \"disease_name\": \"Hepatitis B\",\n",
    "    \"description\": \"Hepatitis B is a viral infection that targets the liver, caused by the Hepatitis B Virus (HBV). It can lead to both acute and chronic liver conditions, with symptoms such as jaundice, fatigue, abdominal pain, and dark urine. Transmission occurs through contact with infected body fluids, including blood, saliva, and semen. Hepatitis B remains a significant global health concern.\",\n",
    "    \"medication\": [\"Antiviral medications (e.g., Entecavir, Tenofovir)\", \"Interferon injections\", \"Liver-supportive supplements\"],\n",
    "    \"precautions\": [\"Avoid alcohol and liver-toxic medications\", \"Practice safe hygiene and vaccination\", \"Monitor liver function regularly\", \"Follow a liver-friendly diet\"],\n",
    "    \"things_to_do_now\": [\"Get tested for hepatitis markers\", \"Avoid sharing personal hygiene items\", \"Consult a hepatologist for further management\", \"Maintain a healthy lifestyle\"]}\n",
    "dic20 = {\n",
    "    \"disease_name\": \"Hepatitis C\",\n",
    "    \"description\": \"Hepatitis C is a viral infection that causes inflammation of the liver, potentially leading to serious liver damage over time. It is primarily transmitted through contact with infected blood, often via shared needles, unscreened blood transfusions, or unsafe medical practices. Symptoms may include jaundice, fatigue, abdominal pain, and dark urine, though many cases remain asymptomatic for years.\",\n",
    "    \"medication\": [\"Direct-acting antivirals (e.g., Sofosbuvir, Ledipasvir)\", \"Interferon therapy\"],\n",
    "    \"precautions\": [\"Avoid alcohol\", \"Practice safe hygiene\", \"Get regular liver function tests\", \"Avoid sharing needles\"],\n",
    "    \"things_to_do_now\": [\"Get screened for hepatitis C\", \"Follow prescribed antiviral therapy\", \"Monitor liver health\", \"Consult a liver specialist\"]}\n",
    "dic21 = {\n",
    "    \"disease_name\": \"Hepatitis D\",\n",
    "    \"description\": \"Hepatitis D, also known as delta hepatitis, is a liver infection caused by the Hepatitis D Virus (HDV). It requires the presence of Hepatitis B Virus (HBV) to replicate and infect. HDV can lead to severe liver inflammation and complications, including cirrhosis and liver failure. Transmission occurs through contact with infected blood or body fluids, making it a serious health concern.\",\n",
    "    \"medication\": [\"Interferon therapy\", \"Liver-protective supplements\", \"Antiviral medications (if coinfected with hepatitis B)\"],\n",
    "    \"precautions\": [\"Avoid alcohol and liver-toxic drugs\", \"Get vaccinated against hepatitis B\", \"Practice safe hygiene\", \"Monitor liver function regularly\"],\n",
    "    \"things_to_do_now\": [\"Consult a hepatologist\", \"Get tested for hepatitis markers\", \"Follow a liver-friendly diet\", \"Avoid sharing personal items\"]}\n",
    "dic22 = {\n",
    "    \"disease_name\": \"Hepatitis E\",\n",
    "    \"description\": \"Hepatitis E is a viral infection caused by the Hepatitis E Virus (HEV), primarily transmitted through contaminated water or food. It leads to liver inflammation and symptoms such as jaundice, fatigue, nausea, and abdominal pain. The condition is more common in areas with poor sanitation and typically resolves on its own, though severe cases can occur in vulnerable individuals.\",\n",
    "    \"medication\": [\"Supportive care (rest, hydration)\", \"Antiemetics for nausea\", \"Liver-protective supplements\"],\n",
    "    \"precautions\": [\"Drink clean, filtered water\", \"Maintain proper hygiene\", \"Avoid undercooked food\", \"Follow a balanced diet\"],\n",
    "    \"things_to_do_now\": [\"Rest and stay hydrated\", \"Avoid alcohol consumption\", \"Eat light and nutritious meals\", \"Consult a doctor if symptoms worsen\"]}\n",
    "dic23 = {\n",
    "    \"disease_name\": \"Hypertension\",\n",
    "    \"description\": \"Hypertension, or high blood pressure, is a condition in which the force of blood against the artery walls is consistently elevated. It often develops over time and may not show symptoms initially, earning it the nickname \\\"silent killer.\\\" If left unmanaged, hypertension can lead to serious complications like heart disease, stroke, or kidney damage, affecting overall health and longevity.\",\n",
    "    \"medication\": [\"ACE inhibitors (e.g., Lisinopril, Enalapril)\", \"Beta-blockers (e.g., Metoprolol, Atenolol)\", \"Calcium channel blockers (e.g., Amlodipine, Diltiazem)\", \"Diuretics (e.g., Hydrochlorothiazide, Chlorthalidone)\", \"Angiotensin II receptor blockers (e.g., Losartan, Valsartan)\"],\n",
    "    \"precautions\": [\"Reduce sodium intake\", \"Exercise regularly\", \"Maintain a healthy weight\", \"Manage stress effectively\", \"Limit alcohol consumption\", \"Quit smoking\"],\n",
    "    \"things_to_do_now\": [\"Check your blood pressure regularly\", \"Follow a low-sodium, heart-healthy diet\", \"Stay hydrated and avoid excessive caffeine\",  \"Take prescribed medications as directed\", \"Consult a doctor if blood pressure remains high\"]}\n",
    "dic24 = {\n",
    "    \"disease_name\": \"Hyperthyroidism\",\n",
    "    \"description\": \"Hyperthyroidism is a condition where the thyroid gland produces an excessive amount of thyroid hormones. This hormonal imbalance accelerates the body's metabolism, leading to symptoms such as rapid heartbeat, weight loss, increased appetite, sweating, anxiety, and fatigue. It can affect various bodily functions and is more commonly observed in women than men.\",\n",
    "    \"medication\": [\"Antithyroid drugs (e.g., Methimazole, Propylthiouracil)\", \"Beta-blockers for symptom control\", \"Radioactive iodine therapy\"],\n",
    "    \"precautions\": [\"Monitor thyroid hormone levels\", \"Avoid excessive iodine intake\", \"Manage stress effectively\", \"Maintain a healthy diet\"],\n",
    "    \"things_to_do_now\": [\"Get thyroid function tests\", \"Follow prescribed medication\", \"Avoid caffeine and stimulants\", \"Consult an endocrinologist\"]}\n",
    "dic25 = {\n",
    "    \"disease_name\": \"Hypoglycemia\",\n",
    "    \"description\": \"Hypoglycemia occurs when blood sugar levels drop below normal, leading to symptoms such as shakiness, sweating, confusion, dizziness, and irritability. It can result from prolonged fasting, excessive physical activity, or certain medical conditions. Severe hypoglycemia can cause fainting or seizures, requiring prompt attention to restore blood sugar balance.\",\n",
    "    \"medication\": [\"Glucose tablets or gel\", \"Fast-acting carbohydrates (e.g., juice, candy)\", \"Glucagon injection (for severe cases)\"],\n",
    "    \"precautions\": [\"Monitor blood sugar regularly\", \"Eat small, frequent meals\", \"Avoid excessive insulin or diabetes medications\", \"Carry sugar sources at all times\"],\n",
    "    \"things_to_do_now\": [\"Consume a fast-acting sugar source\", \"Recheck blood sugar after 15 minutes\", \"Eat a balanced meal to stabilize levels\", \"Seek medical help if symptoms persist\"]}\n",
    "dic26 = {\n",
    "    \"disease_name\": \"Hypothyroidism\",\n",
    "    \"description\": \"Hypothyroidism is a condition in which the thyroid gland produces insufficient amounts of thyroid hormones. This hormonal deficiency slows down metabolism, leading to symptoms such as fatigue, weight gain, cold intolerance, dry skin, hair thinning, depression, and constipation. It is a common endocrine disorder, often more prevalent in women, and can be managed with proper medical treatment.\",\n",
    "    \"medication\": [\"Levothyroxine (thyroid hormone replacement)\"],\n",
    "    \"precautions\": [\"Monitor thyroid levels regularly\", \"Follow a healthy, iodine-rich diet\", \"Exercise to manage weight\", \"Avoid processed and goitrogenic foods\"],\n",
    "    \"things_to_do_now\": [\"Take prescribed medication daily\", \"Get thyroid function tests\", \"Maintain a balanced diet\", \"Consult an endocrinologist if symptoms persist\"]}\n",
    "dic27 = {\n",
    "    \"disease_name\": \"Impetigo\",\n",
    "    \"description\": \"Impetigo is a highly contagious bacterial skin infection that primarily affects children but can occur in adults as well. It usually starts as red sores or blisters, often around the nose, mouth, or other exposed areas of the skin. These sores can burst, ooze, and form honey-colored crusts. Impetigo is caused by bacteria like Staphylococcus aureus or Streptococcus pyogenes and spreads through direct contact or shared items like towels or clothing.\",\n",
    "    \"medication\": [\"Topical antibiotics (e.g., Mupirocin)\", \"Oral antibiotics (for severe cases)\"],\n",
    "    \"precautions\": [\"Maintain good hygiene\", \"Avoid touching affected areas\", \"Wash hands frequently\", \"Keep sores covered to prevent spread\"],\n",
    "    \"things_to_do_now\": [\"Apply prescribed antibiotic cream\", \"Keep affected area clean and dry\", \"Avoid scratching the sores\", \"Consult a doctor if infection worsens\"]}\n",
    "dic28 = {\n",
    "    \"disease_name\": \"Jaundice\",\n",
    "    \"description\": \"Jaundice is a condition where the skin, whites of the eyes, and mucous membranes turn yellow due to high levels of bilirubin in the blood. This yellowing often indicates liver dysfunction or other issues affecting bile production or elimination. Common causes include hepatitis, gallstones, liver cirrhosis, and hemolysis. Symptoms can also include fatigue, dark urine, and pale stools. It’s important to address the underlying cause for proper treatment.\",\n",
    "    \"medication\": [\"Liver-supportive supplements\", \"Hydration therapy\", \"Antiviral or antibiotic treatment (if infection-related)\"],\n",
    "    \"precautions\": [\"Avoid alcohol and hepatotoxic substances\", \"Follow a liver-friendly diet\", \"Get regular liver function tests\", \"Maintain proper hydration\"],\n",
    "    \"things_to_do_now\": [\"Increase water intake\", \"Avoid fatty and processed foods\", \"Follow medical advice for underlying conditions\", \"Consult a doctor if symptoms worsen\"]}\n",
    "dic29 = {\n",
    "    \"disease_name\": \"Malaria\",\n",
    "    \"description\": \"Malaria is a mosquito-borne infectious disease caused by Plasmodium parasites. It is transmitted through the bite of infected female Anopheles mosquitoes. Symptoms include fever, chills, headache, muscle aches, and fatigue. Severe cases can lead to complications like anemia, jaundice, seizures, or even death. Malaria is prevalent in tropical and subtropical regions and remains a significant global health challenge.\",\n",
    "    \"medication\": [\"Antimalarial drugs (e.g., Chloroquine, Artemisinin-based therapy)\", \"Fever-reducing medications\"],\n",
    "    \"precautions\": [\"Use mosquito repellents\", \"Sleep under a mosquito net\", \"Avoid stagnant water\", \"Take prophylactic medication if traveling to endemic areas\"],\n",
    "    \"things_to_do_now\": [\"Take prescribed antimalarial drugs\", \"Rest and stay hydrated\", \"Monitor fever and symptoms\", \"Seek immediate medical care if severe symptoms appear\"]}\n",
    "dic30 = {\n",
    "    \"disease_name\": \"Migraine\",\n",
    "    \"description\": \"A migraine is a neurological condition that causes recurring and often intense headaches, typically on one side of the head. It may be accompanied by nausea, vomiting, and sensitivity to light and sound. Some individuals experience warning signs called \\\"aura,\\\" which can include visual disturbances, before the headache phase begins. Migraines can last for hours to days and may significantly impact daily life. Triggers often include stress, certain foods, hormonal changes, or lack of sleep.\",\n",
    "    \"medication\": [\"Triptans (e.g., Sumatriptan)\", \"Pain relievers (e.g., Ibuprofen, Acetaminophen)\", \"Beta-blockers (for prevention)\"],\n",
    "    \"precautions\": [\"Avoid known triggers (e.g., stress, certain foods)\", \"Maintain a regular sleep schedule\", \"Stay hydrated\", \"Practice relaxation techniques\"],\n",
    "    \"things_to_do_now\": [\"Rest in a quiet, dark room\", \"Apply a cold compress to the head\", \"Take prescribed migraine medication\", \"Avoid caffeine and strong odors\"]}\n",
    "dic31 = {\n",
    "    \"disease_name\": \"Osteoarthritis\",\n",
    "    \"description\": \"Osteoarthritis is a degenerative joint disease that occurs when the protective cartilage that cushions the ends of bones wears down over time. It commonly affects weight-bearing joints like the knees, hips, and spine, as well as the hands. Symptoms include joint pain, stiffness, swelling, and a reduced range of motion. Osteoarthritis is most prevalent among older individuals and can impact daily activities, though it is manageable with lifestyle changes, physical therapy, and medications.\",\n",
    "    \"medication\": [\"Pain relievers (e.g., Acetaminophen, NSAIDs)\", \"Joint supplements (e.g., Glucosamine, Chondroitin)\", \"Corticosteroid injections (for severe cases)\"],\n",
    "    \"precautions\": [\"Maintain a healthy weight\", \"Engage in low-impact exercises\", \"Use joint-supportive devices if needed\", \"Follow a balanced diet rich in omega-3 fatty acids\"],\n",
    "    \"things_to_do_now\": [\"Apply heat or cold therapy to affected joints\", \"Perform gentle stretching exercises\", \"Take prescribed pain medications\", \"Consult a rheumatologist for treatment options\"]}\n",
    "dic32 = {\n",
    "    \"disease_name\": \"Paralysis (brain hemorrhage)\",\n",
    "    \"description\": \"Paralysis due to a brain hemorrhage occurs when bleeding in the brain disrupts its normal function. A brain hemorrhage, also known as a cerebral hemorrhage, is a type of stroke caused by a ruptured blood vessel in the brain. This bleeding can compress brain tissue, leading to symptoms such as sudden weakness or numbness on one side of the body, difficulty speaking, loss of coordination, and severe headache.\",\n",
    "    \"medication\": [\"Blood pressure medications (e.g., Labetalol, Nicardipine)\", \"Anticoagulants (if indicated)\", \"Physical therapy for rehabilitation\"],\n",
    "    \"precautions\": [\"Monitor blood pressure regularly\", \"Follow a healthy diet\", \"Avoid smoking and excessive alcohol consumption\", \"Seek immediate medical care for stroke symptoms\"],\n",
    "    \"things_to_do_now\": [\"Call emergency medical services immediately\", \"Ensure the patient remains stable\", \"Start rehabilitation therapy as soon as possible\", \"Follow up with a neurologist\"]}\n",
    "dic33 = {\n",
    "    \"disease_name\": \"Peptic ulcer disease\",\n",
    "    \"description\": \"Peptic ulcer disease involves the formation of open sores in the lining of the stomach or the upper part of the small intestine. These ulcers can cause symptoms like burning stomach pain, bloating, nausea, and heartburn. Common causes include infection with Helicobacter pylori bacteria and prolonged use of nonsteroidal anti-inflammatory drugs (NSAIDs). If untreated, complications like internal bleeding or perforation may arise.\",\n",
    "    \"medication\": [\"Proton pump inhibitors (e.g., Omeprazole, Lansoprazole)\", \"H2 receptor blockers (e.g., Ranitidine, Famotidine)\", \"Antibiotics for H. pylori infection\"],\n",
    "    \"precautions\": [\"Avoid spicy and acidic foods\", \"Limit NSAID use\", \"Manage stress effectively\", \"Avoid alcohol and smoking\"],\n",
    "    \"things_to_do_now\": [\"Take prescribed medications regularly\", \"Eat small, frequent meals\", \"Avoid caffeine and carbonated drinks\", \"Consult a gastroenterologist if symptoms persist\"]}\n",
    "dic34 = {\n",
    "    \"disease_name\": \"Pneumonia\",\n",
    "    \"description\": \"Pneumonia is an infection that inflames the air sacs in one or both lungs, which may fill with fluid or pus. It can be caused by bacteria, viruses, or fungi. Common symptoms include cough with phlegm, fever, chills, chest pain, and difficulty breathing. Pneumonia can range from mild to severe and is more dangerous for infants, the elderly, or individuals with weakened immune systems. \",\n",
    "    \"medication\": [\"Antibiotics (for bacterial pneumonia)\", \"Antiviral drugs (for viral pneumonia)\", \"Fever reducers and pain relievers\"],\n",
    "    \"precautions\": [\"Get vaccinated for pneumonia\", \"Maintain good hand hygiene\", \"Avoid exposure to pollutants and smoke\", \"Stay hydrated and rest\"],\n",
    "    \"things_to_do_now\": [\"Take prescribed antibiotics or antivirals\", \"Use a humidifier to ease breathing\", \"Get plenty of rest and fluids\", \"Seek immediate care if breathing difficulty worsens\"]}\n",
    "dic35 = {\n",
    "    \"disease_name\": \"Psoriasis\",\n",
    "    \"description\": \"Psoriasis is a chronic autoimmune skin condition that causes the rapid buildup of skin cells, leading to scaling on the skin's surface. Inflammation and redness around the affected areas are common. Symptoms include thick, silvery scales, dry skin patches, itching, and discomfort. Psoriasis can appear on various parts of the body, including the scalp, elbows, knees, and lower back. It is not contagious, but factors like stress, infections, or certain medications can trigger or worsen symptoms.\",\n",
    "    \"medication\": [\"Topical corticosteroids\", \"Vitamin D analogs (e.g., Calcipotriol)\", \"Biologic treatments (e.g., Adalimumab, Infliximab)\"],\n",
    "    \"precautions\": [\"Moisturize skin regularly\", \"Avoid triggers like stress and infections\", \"Follow a healthy diet\", \"Limit alcohol and tobacco use\"],\n",
    "    \"things_to_do_now\": [\"Apply prescribed creams and ointments\", \"Use mild soaps and moisturizers\", \"Manage stress through relaxation techniques\", \"Consult a dermatologist for further treatment options\"]}\n",
    "dic36 = {\n",
    "    \"disease_name\": \"Tuberculosis\",\n",
    "    \"description\": \"Tuberculosis (TB) is a contagious bacterial infection caused by Mycobacterium tuberculosis. It primarily affects the lungs but can also impact other parts of the body. TB spreads through airborne droplets when an infected person coughs, sneezes, or speaks. Symptoms of active TB include persistent cough (sometimes with blood), fever, night sweats, weight loss, and fatigue.\",\n",
    "    \"medication\": [\"Isoniazid\", \"Rifampin\", \"Ethambutol\", \"Pyrazinamide\"],\n",
    "    \"precautions\": [\"Complete the full course of medication\", \"Avoid close contact with others if infectious\", \"Follow a nutrient-rich diet\", \"Get regular follow-ups with a doctor\"],\n",
    "    \"things_to_do_now\": [\"Start anti-TB medication immediately\", \"Ensure proper ventilation at home\", \"Wear a mask to prevent spread\", \"Follow up with a doctor for regular monitoring\"]}\n",
    "dic37 = {\n",
    "    \"disease_name\": \"Typhoid\",\n",
    "    \"description\": \"Typhoid fever is a bacterial infection caused by Salmonella Typhi. It spreads through contaminated food or water and is more common in areas with poor sanitation. Symptoms include prolonged high fever, abdominal pain, weakness, headache, and sometimes a rash. If untreated, it can lead to severe complications like intestinal perforation or organ damage.\",\n",
    "    \"medication\": [\"Antibiotics (e.g., Ciprofloxacin, Azithromycin)\", \"Fever reducers\", \"Oral rehydration solutions\"],\n",
    "    \"precautions\": [\"Drink clean, purified water\", \"Maintain proper hygiene\", \"Avoid raw and undercooked food\", \"Get vaccinated for typhoid if at risk\"],\n",
    "    \"things_to_do_now\": [\"Start antibiotic treatment\", \"Stay hydrated with fluids\", \"Eat light, digestible meals\", \"Consult a doctor if symptoms worsen\"]}\n",
    "dic38 = {\n",
    "    \"disease_name\": \"Urinary tract infection\",\n",
    "    \"description\": \"A urinary tract infection (UTI) is an infection that affects the urinary system, including the bladder, urethra, and kidneys. It's commonly caused by bacteria, such as Escherichia coli (E. coli), entering the urinary tract. Symptoms include a burning sensation during urination, frequent urge to urinate, cloudy or foul-smelling urine, and lower abdominal pain. In severe cases, UTIs can lead to kidney infections, which may cause fever, chills, and back pain.\",\n",
    "    \"medication\": [\"Antibiotics (e.g., Nitrofurantoin, Ciprofloxacin)\", \"Pain relievers (e.g., Phenazopyridine)\"],\n",
    "    \"precautions\": [\"Drink plenty of water\", \"Maintain good personal hygiene\", \"Avoid holding in urine for long periods\", \"Wear loose, breathable clothing\"],\n",
    "    \"things_to_do_now\": [\"Start prescribed antibiotics\", \"Increase water intake\", \"Avoid caffeine and acidic foods\", \"Consult a doctor if symptoms persist\"]}\n",
    "dic39 = {\n",
    "    \"disease_name\": \"Varicose veins\",\n",
    "    \"description\": \"Varicose veins are enlarged, twisted veins that most commonly appear on the legs and feet. They occur when the valves in the veins weaken, causing blood to pool and the veins to swell. Symptoms can include aching, heaviness, swelling, and itching around the affected area. In severe cases, varicose veins may lead to skin changes or ulcers.\",\n",
    "    \"medication\": [\"Compression therapy\", \"Pain relievers\", \"Sclerotherapy (in some cases)\"],\n",
    "    \"precautions\": [\"Avoid prolonged standing\", \"Elevate legs when resting\", \"Exercise regularly\", \"Maintain a healthy weight\"],\n",
    "    \"things_to_do_now\": [\"Wear compression stockings\", \"Avoid sitting or standing for long periods\", \"Engage in low-impact exercises\", \"Consult a vascular specialist if needed\"]}\n",
    "dic40 = {\n",
    "    \"disease_name\": \"Hepatitis A\",\n",
    "    \"description\": \"Hepatitis A is a viral infection that causes inflammation of the liver. It is primarily transmitted through the ingestion of contaminated food or water or through close contact with an infected person. Symptoms may include fatigue, nausea, abdominal pain, jaundice (yellowing of the skin and eyes), and dark urine. Unlike other forms of hepatitis, Hepatitis A does not lead to chronic liver disease and is usually self-limiting, resolving within a few weeks to months.\",\n",
    "    \"medication\": [\"Supportive care (rest, hydration)\", \"Liver-supporting supplements\"],\n",
    "    \"precautions\": [\"Drink clean, safe water\", \"Practice good hygiene\", \"Get vaccinated for hepatitis A\", \"Avoid alcohol and fatty foods\"],\n",
    "    \"things_to_do_now\": [\"Rest and stay hydrated\", \"Eat a light, healthy diet\", \"Follow a liver-friendly lifestyle\", \"Consult a doctor for symptom management\"]}\n",
    "maga_dic = [dic0, dic1, dic2, dic3, dic4, dic5, dic6, dic7, dic8, dic9, dic10, dic11, dic12, dic13, dic14, dic15, dic16, dic17, dic18, dic19, dic20, dic21, dic22, dic23, dic24, dic25, dic26, dic27, dic28, dic29, dic30, dic31, dic32, dic33, dic34, dic35, dic36, dic37, dic38, dic39, dic40]"
   ]
  },
  {
   "cell_type": "code",
   "execution_count": 142,
   "metadata": {
    "executionInfo": {
     "elapsed": 70,
     "status": "ok",
     "timestamp": 1750055410133,
     "user": {
      "displayName": "2022ITB018 2022ITB018_SOMDATTA",
      "userId": "01276081353466704944"
     },
     "user_tz": -330
    },
    "id": "mCALRHOk70Ju"
   },
   "outputs": [],
   "source": [
    "import numpy as np\n",
    "import pandas as pd\n",
    "import warnings\n",
    "warnings.simplefilter('ignore')\n",
    "dataset = pd.read_csv('2Training.csv')\n",
    "labels = dataset['prognosis']\n",
    "data = dataset.drop('prognosis', axis = 1)\n",
    "n = len(dataset.columns)\n",
    "symptom_columns = [col.lower().replace('_',' ').strip() for col in dataset.columns[:n-1]]\n",
    "data.columns = symptom_columns"
   ]
  },
  {
   "cell_type": "code",
   "execution_count": 201,
   "metadata": {
    "executionInfo": {
     "elapsed": 38,
     "status": "ok",
     "timestamp": 1750055419469,
     "user": {
      "displayName": "2022ITB018 2022ITB018_SOMDATTA",
      "userId": "01276081353466704944"
     },
     "user_tz": -330
    },
    "id": "So0Bfse470Lo"
   },
   "outputs": [],
   "source": [
    "from sklearn.model_selection import train_test_split\n",
    "from sklearn.preprocessing import LabelEncoder\n",
    "X = dataset.drop('prognosis', axis=1)\n",
    "y = dataset['prognosis']\n",
    "le = LabelEncoder()\n",
    "Y = le.fit_transform(y)\n",
    "mapping = dict(zip(le.classes_, range(len(le.classes_))))\n",
    "mapping2 = dict((v, k) for k, v in mapping.items())\n",
    "X_train, X_test, y_train, y_test = train_test_split(X, Y, test_size=0.2, random_state = 20)\n",
    "# 0.0000001"
   ]
  },
  {
   "cell_type": "code",
   "execution_count": 210,
   "metadata": {
    "colab": {
     "base_uri": "https://localhost:8080/"
    },
    "executionInfo": {
     "elapsed": 10265,
     "status": "ok",
     "timestamp": 1750055444112,
     "user": {
      "displayName": "2022ITB018 2022ITB018_SOMDATTA",
      "userId": "01276081353466704944"
     },
     "user_tz": -330
    },
    "id": "F0JM-V1n70L5",
    "outputId": "403d7b9a-c012-4d57-c4a1-20bd69154c31"
   },
   "outputs": [
    {
     "name": "stdout",
     "output_type": "stream",
     "text": [
      "Train accuracy 1.00\n"
     ]
    }
   ],
   "source": [
    "from mlxtend.classifier import StackingClassifier\n",
    "from sklearn.ensemble import HistGradientBoostingClassifier\n",
    "from sklearn.svm import SVC\n",
    "from sklearn.ensemble import RandomForestClassifier\n",
    "from sklearn.neighbors import KNeighborsClassifier\n",
    "from sklearn.naive_bayes import MultinomialNB\n",
    "from sklearn.metrics import accuracy_score\n",
    "clf1 = SVC(kernel = 'rbf',probability = True,C=0.5)\n",
    "clf2 = RandomForestClassifier(n_estimators = 100, max_depth=10, min_samples_leaf=5,random_state = 42, criterion = 'entropy')\n",
    "clf3 = KNeighborsClassifier(n_neighbors = 7, weights = 'distance')\n",
    "clf4 = MultinomialNB()\n",
    "lr = KNeighborsClassifier(n_neighbors = 5, weights = 'distance')\n",
    "sclf = StackingClassifier(classifiers = [clf1, clf2, clf3, clf4], meta_classifier = lr)\n",
    "sclf.fit(X_train, y_train)\n",
    "print(\"Train accuracy %0.2f\" % sclf.score(X_train, y_train))"
   ]
  },
  {
   "cell_type": "code",
   "execution_count": 246,
   "metadata": {},
   "outputs": [
    {
     "name": "stdout",
     "output_type": "stream",
     "text": [
      "CV accuracy: 1.00 ± 0.00\n",
      "Test accuracy: 1.00\n"
     ]
    }
   ],
   "source": [
    "from mlxtend.classifier import StackingClassifier\n",
    "from sklearn.ensemble import RandomForestClassifier\n",
    "from sklearn.svm import SVC\n",
    "from sklearn.neighbors import KNeighborsClassifier\n",
    "from sklearn.naive_bayes import MultinomialNB\n",
    "from sklearn.model_selection import cross_val_score\n",
    "import numpy as np\n",
    "\n",
    "# Base models\n",
    "clf1 = SVC(kernel='rbf', probability=True, C=1.0)  # Regularization with C=1.0\n",
    "clf2 = RandomForestClassifier(n_estimators=100, random_state=42, criterion='entropy', max_depth=10)  # limit depth\n",
    "clf3 = KNeighborsClassifier(n_neighbors=5, weights='distance')\n",
    "# clf4 = MultinomialNB()\n",
    "\n",
    "# Meta model\n",
    "lr = KNeighborsClassifier(n_neighbors=5, weights='distance')\n",
    "\n",
    "# Stacking classifier\n",
    "sclf = StackingClassifier(classifiers=[clf1, clf2, clf3],\n",
    "                          meta_classifier=lr,\n",
    "                          use_probas=True,\n",
    "                          average_probas=False)\n",
    "\n",
    "# Cross-validation score\n",
    "scores = cross_val_score(sclf, X_train, y_train, cv=5)\n",
    "\n",
    "print(\"CV accuracy: %.2f ± %.2f\" % (scores.mean(), scores.std()))\n",
    "\n",
    "# Optionally fit on entire training data\n",
    "sclf.fit(X_train, y_train)\n",
    "\n",
    "# Evaluate on test set if you have one\n",
    "print(\"Test accuracy: %.2f\" % sclf.score(X_test, y_test))\n"
   ]
  },
  {
   "cell_type": "code",
   "execution_count": 294,
   "metadata": {},
   "outputs": [
    {
     "name": "stdout",
     "output_type": "stream",
     "text": [
      "CV accuracy: 1.00 ± 0.00\n",
      "Test accuracy: 1.00\n"
     ]
    }
   ],
   "source": [
    "from mlxtend.classifier import StackingClassifier\n",
    "from sklearn.ensemble import RandomForestClassifier\n",
    "from sklearn.svm import SVC\n",
    "from sklearn.neighbors import KNeighborsClassifier\n",
    "from sklearn.linear_model import LogisticRegression  # Import LogisticRegression\n",
    "from sklearn.model_selection import cross_val_score\n",
    "import numpy as np\n",
    "\n",
    "# Base models\n",
    "clf1 = SVC(kernel='rbf', probability=True, C=1.0)  # Regularization with C=1.0\n",
    "clf2 = RandomForestClassifier(n_estimators=100, random_state=42, criterion='entropy', max_depth=10)  # limit depth\n",
    "clf3 = KNeighborsClassifier(n_neighbors=5, weights='distance')\n",
    "# clf4 = MultinomialNB()\n",
    "\n",
    "# Meta model changed to LogisticRegression\n",
    "lr = KNeighborsClassifier(n_neighbors=5, weights='distance')\n",
    "\n",
    "# Stacking classifier\n",
    "sclf = StackingClassifier(classifiers=[clf1, clf2, clf3],\n",
    "                          meta_classifier=lr,\n",
    "                          use_probas=True,\n",
    "                          average_probas=False)\n",
    "\n",
    "# Cross-validation score\n",
    "scores = cross_val_score(sclf, X_train, y_train, cv=5)\n",
    "\n",
    "print(\"CV accuracy: %.2f ± %.2f\" % (scores.mean(), scores.std()))\n",
    "\n",
    "# Optionally fit on entire training data\n",
    "sclf.fit(X_train, y_train)\n",
    "\n",
    "# Evaluate on test set if you have one\n",
    "print(\"Test accuracy: %.2f\" % sclf.score(X_test, y_test))\n"
   ]
  },
  {
   "cell_type": "code",
   "execution_count": 302,
   "metadata": {},
   "outputs": [
    {
     "name": "stdout",
     "output_type": "stream",
     "text": [
      "CV accuracy: 1.00 ± 0.00\n",
      "Test accuracy: 1.00\n"
     ]
    },
    {
     "ename": "NameError",
     "evalue": "name 'symptom_vector' is not defined",
     "output_type": "error",
     "traceback": [
      "\u001b[31m---------------------------------------------------------------------------\u001b[39m",
      "\u001b[31mNameError\u001b[39m                                 Traceback (most recent call last)",
      "\u001b[36mCell\u001b[39m\u001b[36m \u001b[39m\u001b[32mIn[302]\u001b[39m\u001b[32m, line 34\u001b[39m\n\u001b[32m     30\u001b[39m \u001b[38;5;28mprint\u001b[39m(\u001b[33m\"\u001b[39m\u001b[33mTest accuracy: \u001b[39m\u001b[38;5;132;01m%.2f\u001b[39;00m\u001b[33m\"\u001b[39m % sclf.score(X_test, y_test))\n\u001b[32m     32\u001b[39m \u001b[38;5;66;03m# Predict top 3 diseases (replace symptom_vector with actual input)\u001b[39;00m\n\u001b[32m     33\u001b[39m \u001b[38;5;66;03m# symptom_vector = your symptom input binary vector\u001b[39;00m\n\u001b[32m---> \u001b[39m\u001b[32m34\u001b[39m probas = sclf.predict_proba([\u001b[43msymptom_vector\u001b[49m])[\u001b[32m0\u001b[39m]\n\u001b[32m     35\u001b[39m top_indices = np.argsort(probas)[::-\u001b[32m1\u001b[39m][:\u001b[32m3\u001b[39m]\n\u001b[32m     37\u001b[39m \u001b[38;5;28mprint\u001b[39m(\u001b[33m\"\u001b[39m\u001b[38;5;130;01m\\n\u001b[39;00m\u001b[33mTop 3 predictions:\u001b[39m\u001b[33m\"\u001b[39m)\n",
      "\u001b[31mNameError\u001b[39m: name 'symptom_vector' is not defined"
     ]
    }
   ],
   "source": [
    "from mlxtend.classifier import StackingClassifier\n",
    "from sklearn.ensemble import RandomForestClassifier\n",
    "from sklearn.svm import SVC\n",
    "from sklearn.neighbors import KNeighborsClassifier\n",
    "from sklearn.model_selection import cross_val_score\n",
    "import numpy as np\n",
    "\n",
    "# Base models\n",
    "clf1 = SVC(kernel='rbf', probability=True, C=1.0)  # Regularization with C=1.0\n",
    "clf2 = RandomForestClassifier(n_estimators=100, random_state=42, criterion='entropy', max_depth=10)  # limit depth\n",
    "clf3 = KNeighborsClassifier(n_neighbors=5, weights='distance')\n",
    "\n",
    "# Meta model is KNN as you specified\n",
    "lr = KNeighborsClassifier(n_neighbors=5, weights='distance')\n",
    "\n",
    "# Stacking classifier\n",
    "sclf = StackingClassifier(classifiers=[clf1, clf2, clf3],\n",
    "                          meta_classifier=lr,\n",
    "                          use_probas=True,\n",
    "                          average_probas=False)\n",
    "\n",
    "# Cross-validation score\n",
    "scores = cross_val_score(sclf, X_train, y_train, cv=5)\n",
    "print(\"CV accuracy: %.2f ± %.2f\" % (scores.mean(), scores.std()))\n",
    "\n",
    "# Fit on entire training data\n",
    "sclf.fit(X_train, y_train)\n",
    "\n",
    "# Test accuracy\n",
    "print(\"Test accuracy: %.2f\" % sclf.score(X_test, y_test))\n",
    "\n",
    "# Predict top 3 diseases (replace symptom_vector with actual input)\n",
    "# symptom_vector = your symptom input binary vector\n",
    "probas = sclf.predict_proba([symptom_vector])[0]\n",
    "top_indices = np.argsort(probas)[::-1][:3]\n",
    "\n",
    "print(\"\\nTop 3 predictions:\")\n",
    "for idx in top_indices:\n",
    "    print(f\"{mapping2[idx]}: {probas[idx]:.3f}\")\n"
   ]
  },
  {
   "cell_type": "code",
   "execution_count": 204,
   "metadata": {
    "colab": {
     "base_uri": "https://localhost:8080/"
    },
    "executionInfo": {
     "elapsed": 7811,
     "status": "ok",
     "timestamp": 1750055468894,
     "user": {
      "displayName": "2022ITB018 2022ITB018_SOMDATTA",
      "userId": "01276081353466704944"
     },
     "user_tz": -330
    },
    "id": "9UqNlLmPm2NT",
    "outputId": "bdfd1224-2626-4d69-f3aa-574e6290e008"
   },
   "outputs": [
    {
     "name": "stdout",
     "output_type": "stream",
     "text": [
      "Defaulting to user installation because normal site-packages is not writeable\n",
      "Requirement already satisfied: mtranslate in c:\\users\\biswa\\appdata\\roaming\\python\\python313\\site-packages (1.8)\n"
     ]
    },
    {
     "name": "stderr",
     "output_type": "stream",
     "text": [
      "\n",
      "[notice] A new release of pip is available: 24.3.1 -> 25.1.1\n",
      "[notice] To update, run: python.exe -m pip install --upgrade pip\n"
     ]
    }
   ],
   "source": [
    "!pip install mtranslate"
   ]
  },
  {
   "cell_type": "code",
   "execution_count": 205,
   "metadata": {},
   "outputs": [
    {
     "name": "stdout",
     "output_type": "stream",
     "text": [
      "Defaulting to user installation because normal site-packages is not writeable\n",
      "Requirement already satisfied: sentence-transformers in c:\\users\\biswa\\appdata\\roaming\\python\\python313\\site-packages (4.1.0)\n",
      "Requirement already satisfied: transformers<5.0.0,>=4.41.0 in c:\\users\\biswa\\appdata\\roaming\\python\\python313\\site-packages (from sentence-transformers) (4.52.4)\n",
      "Requirement already satisfied: tqdm in c:\\users\\biswa\\appdata\\roaming\\python\\python313\\site-packages (from sentence-transformers) (4.67.1)\n",
      "Requirement already satisfied: torch>=1.11.0 in c:\\users\\biswa\\appdata\\roaming\\python\\python313\\site-packages (from sentence-transformers) (2.7.1)\n",
      "Requirement already satisfied: scikit-learn in c:\\users\\biswa\\appdata\\roaming\\python\\python313\\site-packages (from sentence-transformers) (1.7.0)\n",
      "Requirement already satisfied: scipy in c:\\users\\biswa\\appdata\\roaming\\python\\python313\\site-packages (from sentence-transformers) (1.15.3)\n",
      "Requirement already satisfied: huggingface-hub>=0.20.0 in c:\\users\\biswa\\appdata\\roaming\\python\\python313\\site-packages (from sentence-transformers) (0.33.0)\n",
      "Requirement already satisfied: Pillow in c:\\users\\biswa\\appdata\\roaming\\python\\python313\\site-packages (from sentence-transformers) (11.2.1)\n",
      "Requirement already satisfied: typing_extensions>=4.5.0 in c:\\users\\biswa\\appdata\\roaming\\python\\python313\\site-packages (from sentence-transformers) (4.14.0)\n",
      "Requirement already satisfied: filelock in c:\\users\\biswa\\appdata\\roaming\\python\\python313\\site-packages (from huggingface-hub>=0.20.0->sentence-transformers) (3.18.0)\n",
      "Requirement already satisfied: fsspec>=2023.5.0 in c:\\users\\biswa\\appdata\\roaming\\python\\python313\\site-packages (from huggingface-hub>=0.20.0->sentence-transformers) (2025.5.1)\n",
      "Requirement already satisfied: packaging>=20.9 in c:\\users\\biswa\\appdata\\roaming\\python\\python313\\site-packages (from huggingface-hub>=0.20.0->sentence-transformers) (24.2)\n",
      "Requirement already satisfied: pyyaml>=5.1 in c:\\users\\biswa\\appdata\\roaming\\python\\python313\\site-packages (from huggingface-hub>=0.20.0->sentence-transformers) (6.0.2)\n",
      "Requirement already satisfied: requests in c:\\users\\biswa\\appdata\\roaming\\python\\python313\\site-packages (from huggingface-hub>=0.20.0->sentence-transformers) (2.32.4)\n",
      "Requirement already satisfied: sympy>=1.13.3 in c:\\users\\biswa\\appdata\\roaming\\python\\python313\\site-packages (from torch>=1.11.0->sentence-transformers) (1.14.0)\n",
      "Requirement already satisfied: networkx in c:\\users\\biswa\\appdata\\roaming\\python\\python313\\site-packages (from torch>=1.11.0->sentence-transformers) (3.5)\n",
      "Requirement already satisfied: jinja2 in c:\\users\\biswa\\appdata\\roaming\\python\\python313\\site-packages (from torch>=1.11.0->sentence-transformers) (3.1.6)\n",
      "Requirement already satisfied: setuptools in c:\\users\\biswa\\appdata\\roaming\\python\\python313\\site-packages (from torch>=1.11.0->sentence-transformers) (80.9.0)\n",
      "Requirement already satisfied: colorama in c:\\users\\biswa\\appdata\\roaming\\python\\python313\\site-packages (from tqdm->sentence-transformers) (0.4.6)\n",
      "Requirement already satisfied: numpy>=1.17 in c:\\users\\biswa\\appdata\\roaming\\python\\python313\\site-packages (from transformers<5.0.0,>=4.41.0->sentence-transformers) (2.3.0)\n",
      "Requirement already satisfied: regex!=2019.12.17 in c:\\users\\biswa\\appdata\\roaming\\python\\python313\\site-packages (from transformers<5.0.0,>=4.41.0->sentence-transformers) (2024.11.6)\n",
      "Requirement already satisfied: tokenizers<0.22,>=0.21 in c:\\users\\biswa\\appdata\\roaming\\python\\python313\\site-packages (from transformers<5.0.0,>=4.41.0->sentence-transformers) (0.21.1)\n",
      "Requirement already satisfied: safetensors>=0.4.3 in c:\\users\\biswa\\appdata\\roaming\\python\\python313\\site-packages (from transformers<5.0.0,>=4.41.0->sentence-transformers) (0.5.3)\n",
      "Requirement already satisfied: joblib>=1.2.0 in c:\\users\\biswa\\appdata\\roaming\\python\\python313\\site-packages (from scikit-learn->sentence-transformers) (1.5.1)\n",
      "Requirement already satisfied: threadpoolctl>=3.1.0 in c:\\users\\biswa\\appdata\\roaming\\python\\python313\\site-packages (from scikit-learn->sentence-transformers) (3.6.0)\n",
      "Requirement already satisfied: mpmath<1.4,>=1.1.0 in c:\\users\\biswa\\appdata\\roaming\\python\\python313\\site-packages (from sympy>=1.13.3->torch>=1.11.0->sentence-transformers) (1.3.0)\n",
      "Requirement already satisfied: MarkupSafe>=2.0 in c:\\users\\biswa\\appdata\\roaming\\python\\python313\\site-packages (from jinja2->torch>=1.11.0->sentence-transformers) (3.0.2)\n",
      "Requirement already satisfied: charset_normalizer<4,>=2 in c:\\users\\biswa\\appdata\\roaming\\python\\python313\\site-packages (from requests->huggingface-hub>=0.20.0->sentence-transformers) (3.4.2)\n",
      "Requirement already satisfied: idna<4,>=2.5 in c:\\users\\biswa\\appdata\\roaming\\python\\python313\\site-packages (from requests->huggingface-hub>=0.20.0->sentence-transformers) (3.10)\n",
      "Requirement already satisfied: urllib3<3,>=1.21.1 in c:\\users\\biswa\\appdata\\roaming\\python\\python313\\site-packages (from requests->huggingface-hub>=0.20.0->sentence-transformers) (2.4.0)\n",
      "Requirement already satisfied: certifi>=2017.4.17 in c:\\users\\biswa\\appdata\\roaming\\python\\python313\\site-packages (from requests->huggingface-hub>=0.20.0->sentence-transformers) (2025.6.15)\n",
      "Note: you may need to restart the kernel to use updated packages.\n"
     ]
    },
    {
     "name": "stderr",
     "output_type": "stream",
     "text": [
      "\n",
      "[notice] A new release of pip is available: 24.3.1 -> 25.1.1\n",
      "[notice] To update, run: python.exe -m pip install --upgrade pip\n"
     ]
    }
   ],
   "source": [
    "pip install sentence-transformers\n"
   ]
  },
  {
   "cell_type": "code",
   "execution_count": 346,
   "metadata": {},
   "outputs": [
    {
     "name": "stdout",
     "output_type": "stream",
     "text": [
      "Phrase: 'acidity' → 'acidity', score: 1.000\n",
      "Phrase: 'stomachache' → 'stomach pain', score: 0.805\n",
      "Phrase: 'vomiting' → 'vomiting', score: 1.000\n",
      "\n",
      "Matched symptoms: ['acidity', 'stomach pain', 'vomiting']\n",
      "Activated indices: [8, 7, 11]\n",
      "Vector: [0, 0, 0, 0, 0, 0, 0, 1, 1, 0, 0, 1, 0, 0, 0, 0, 0, 0, 0, 0, 0, 0, 0, 0, 0, 0, 0, 0, 0, 0, 0, 0, 0, 0, 0, 0, 0, 0, 0, 0, 0, 0, 0, 0, 0, 0, 0, 0, 0, 0, 0, 0, 0, 0, 0, 0, 0, 0, 0, 0, 0, 0, 0, 0, 0, 0, 0, 0, 0, 0, 0, 0, 0, 0, 0, 0, 0, 0, 0, 0, 0, 0, 0, 0, 0, 0, 0, 0, 0, 0, 0, 0, 0, 0, 0, 0, 0, 0, 0, 0, 0, 0, 0, 0, 0, 0, 0, 0, 0, 0, 0, 0, 0, 0, 0, 0, 0, 0, 0, 0, 0, 0, 0, 0, 0, 0, 0, 0, 0, 0, 0, 0]\n",
      "\n",
      "Top 3 predicted diseases:\n",
      "GERD: 0.73\n",
      "Gastroenteritis: 0.01\n",
      "Paralysis (brain hemorrhage): 0.01\n"
     ]
    }
   ],
   "source": [
    "# from sentence_transformers import SentenceTransformer, util\n",
    "# import mtranslate\n",
    "# from mlxtend.classifier import StackingClassifier\n",
    "# from sklearn.ensemble import RandomForestClassifier\n",
    "# from sklearn.svm import SVC\n",
    "# from sklearn.neighbors import KNeighborsClassifier\n",
    "# from sklearn.model_selection import cross_val_score\n",
    "# import numpy as np\n",
    "\n",
    "# # ----------------------------\n",
    "# # Models for stacking\n",
    "# # ----------------------------\n",
    "# clf1 = SVC(kernel='rbf', probability=True, C=1.0)\n",
    "# clf2 = RandomForestClassifier(n_estimators=100, random_state=42, criterion='entropy', max_depth=10)\n",
    "# clf3 = KNeighborsClassifier(n_neighbors=5, weights='distance')\n",
    "# lr = LogisticRegression(max_iter=1000)\n",
    "\n",
    "# sclf = StackingClassifier(classifiers=[clf1, clf2, clf3],\n",
    "#                           meta_classifier=lr,\n",
    "#                           use_probas=True,\n",
    "#                           average_probas=False)\n",
    "\n",
    "# Example: fit (normally you'd do this only once!)\n",
    "# sclf.fit(X_train, y_train)\n",
    "\n",
    "# # ----------------------------\n",
    "# # Symptom matcher setup\n",
    "# # ----------------------------\n",
    "# def translate_text(text, target_lang='en'):\n",
    "#     return mtranslate.translate(text, target_lang)\n",
    "\n",
    "# model = SentenceTransformer('all-MiniLM-L6-v2')\n",
    "# symptom_embeddings = model.encode(symptom_columns)\n",
    "\n",
    "# def match_synonyms(user_text, threshold=0.7):\n",
    "#     matched_symptoms = []\n",
    "#     indices = []\n",
    "#     vec = [0 for _ in range(len(symptom_columns))]\n",
    "\n",
    "#     translated_text = translate_text(user_text, 'en')\n",
    "#     phrases = [p.strip() for p in translated_text.split(',') if p.strip()]\n",
    "#     embeddings = model.encode(phrases)\n",
    "\n",
    "#     for embedding, phrase in zip(embeddings, phrases):\n",
    "#         similarities = util.cos_sim(embedding, symptom_embeddings)[0].tolist()\n",
    "#         best_idx = similarities.index(max(similarities))\n",
    "#         best_score = similarities[best_idx]\n",
    "\n",
    "#         print(f\"Phrase: '{phrase}' → '{symptom_columns[best_idx]}', score: {best_score:.3f}\")\n",
    "\n",
    "#         if best_score >= threshold:\n",
    "#             if best_idx not in indices:\n",
    "#                 matched_symptoms.append(symptom_columns[best_idx])\n",
    "#                 vec[best_idx] = 1\n",
    "#                 indices.append(best_idx)\n",
    "\n",
    "#     return matched_symptoms, indices, vec\n",
    "\n",
    "# # ----------------------------\n",
    "# # Example user input + prediction\n",
    "# # ----------------------------\n",
    "# user_text = \"acidity,stomachache,vomiting\"\n",
    "\n",
    "# matched_symptoms, indices, vec = match_synonyms(user_text)\n",
    "\n",
    "# print(\"\\nMatched symptoms:\", matched_symptoms)\n",
    "# print(\"Activated indices:\", indices)\n",
    "# print(\"Vector:\", vec)\n",
    "\n",
    "# # Predict top 3 diseases\n",
    "# probas = sclf.predict_proba([vec])[0]\n",
    "# top3_idx = np.argsort(probas)[-3:][::-1]\n",
    "\n",
    "# print(\"\\nTop 3 predicted diseases:\")\n",
    "# for idx in top3_idx:\n",
    "#     disease_name = maga_dic[idx]['disease_name'] if idx < len(maga_dic) else \"Unknown\"\n",
    "#     print(f\"{disease_name}: {probas[idx]:.2f}\")\n"
   ]
  },
  {
   "cell_type": "code",
   "execution_count": 368,
   "metadata": {},
   "outputs": [
    {
     "name": "stdout",
     "output_type": "stream",
     "text": [
      "Phrase: 'burning urination' → 'burning micturition', score: 0.841\n",
      "Phrase: 'frequent urination' → 'spotting  urination', score: 0.777\n",
      "Phrase: 'cloudy urine' → 'continuous feel of urine', score: 0.658\n",
      "Phrase: 'strong urine odor' → 'foul smell of urine', score: 0.789\n",
      "Phrase: 'pelvic pain' → 'pain during bowel movements', score: 0.660\n",
      "Phrase: 'blood in urine' → 'blood in sputum', score: 0.572\n",
      "Phrase: 'urgency to urinate' → 'bladder discomfort', score: 0.693\n",
      "Matched symptoms: ['burning micturition', 'spotting  urination', 'continuous feel of urine', 'foul smell of urine', 'pain during bowel movements', 'bladder discomfort']\n",
      "Activated indices: [12, 13, 91, 90, 59, 89]\n",
      "Vector: [0, 0, 0, 0, 0, 0, 0, 0, 0, 0, 0, 0, 1, 1, 0, 0, 0, 0, 0, 0, 0, 0, 0, 0, 0, 0, 0, 0, 0, 0, 0, 0, 0, 0, 0, 0, 0, 0, 0, 0, 0, 0, 0, 0, 0, 0, 0, 0, 0, 0, 0, 0, 0, 0, 0, 0, 0, 0, 0, 1, 0, 0, 0, 0, 0, 0, 0, 0, 0, 0, 0, 0, 0, 0, 0, 0, 0, 0, 0, 0, 0, 0, 0, 0, 0, 0, 0, 0, 0, 1, 1, 1, 0, 0, 0, 0, 0, 0, 0, 0, 0, 0, 0, 0, 0, 0, 0, 0, 0, 0, 0, 0, 0, 0, 0, 0, 0, 0, 0, 0, 0, 0, 0, 0, 0, 0, 0, 0, 0, 0, 0, 0]\n"
     ]
    }
   ],
   "source": [
    "from sentence_transformers import SentenceTransformer, util\n",
    "import mtranslate\n",
    "\n",
    "def translate_text(text, target_lang='en'):\n",
    "    return mtranslate.translate(text, target_lang)\n",
    "\n",
    "# Load model\n",
    "model = SentenceTransformer('pritamdeka/BioBERT-mnli-snli-scinli-scitail-mednli-stsb')\n",
    "\n",
    "# Precompute symptom embeddings\n",
    "symptom_embeddings = model.encode(symptom_columns)\n",
    "\n",
    "def match_synonyms(user_text, threshold=0.65):\n",
    "    matched_symptoms = []\n",
    "    indices = []\n",
    "    vec = [0 for _ in range(len(symptom_columns))]\n",
    "\n",
    "    # Split and encode user phrases\n",
    "    phrases = [p.strip() for p in user_text.split(',') if p.strip()]\n",
    "    embeddings = model.encode(phrases)\n",
    "\n",
    "    for embedding, phrase in zip(embeddings, phrases):\n",
    "        similarities = util.cos_sim(embedding, symptom_embeddings)[0].tolist()\n",
    "        best_idx = similarities.index(max(similarities))\n",
    "        best_score = similarities[best_idx]\n",
    "\n",
    "        print(f\"Phrase: '{phrase}' → '{symptom_columns[best_idx]}', score: {best_score:.3f}\")\n",
    "\n",
    "        if best_score >= threshold:\n",
    "            if best_idx not in indices:\n",
    "                matched_symptoms.append(symptom_columns[best_idx])\n",
    "                vec[best_idx] = 1\n",
    "                indices.append(best_idx)\n",
    "\n",
    "    return matched_symptoms, indices, vec\n",
    "\n",
    "# Example usage\n",
    "user_text = \"burning urination, frequent urination, cloudy urine, strong urine odor, pelvic pain, blood in urine, urgency to urinate\"\n",
    "\n",
    "\n",
    "\n",
    "\n",
    "user_text = translate_text(user_text, 'en')\n",
    "\n",
    "matched_symptoms, indices, vec = match_synonyms(user_text)\n",
    "\n",
    "print(\"Matched symptoms:\", matched_symptoms)\n",
    "print(\"Activated indices:\", indices)\n",
    "# print(\"Vector sum:\", sum(vec))  # No shadowing of built-in sum\n",
    "print(\"Vector:\", vec)\n"
   ]
  },
  {
   "cell_type": "code",
   "execution_count": 370,
   "metadata": {},
   "outputs": [
    {
     "name": "stdout",
     "output_type": "stream",
     "text": [
      "12\n",
      "13\n",
      "13\n",
      "91\n",
      "90\n",
      "91\n",
      "90\n",
      "91\n",
      "59\n",
      "13\n",
      "89\n",
      "91\n",
      "['burning micturition', 'spotting  urination', 'spotting  urination', 'continuous feel of urine', 'foul smell of urine', 'continuous feel of urine', 'foul smell of urine', 'continuous feel of urine', 'pain during bowel movements', 'spotting  urination', 'bladder discomfort', 'continuous feel of urine']\n",
      "6\n",
      "[0, 0, 0, 0, 0, 0, 0, 0, 0, 0, 0, 0, 1, 1, 0, 0, 0, 0, 0, 0, 0, 0, 0, 0, 0, 0, 0, 0, 0, 0, 0, 0, 0, 0, 0, 0, 0, 0, 0, 0, 0, 0, 0, 0, 0, 0, 0, 0, 0, 0, 0, 0, 0, 0, 0, 0, 0, 0, 0, 1, 0, 0, 0, 0, 0, 0, 0, 0, 0, 0, 0, 0, 0, 0, 0, 0, 0, 0, 0, 0, 0, 0, 0, 0, 0, 0, 0, 0, 0, 1, 1, 1, 0, 0, 0, 0, 0, 0, 0, 0, 0, 0, 0, 0, 0, 0, 0, 0, 0, 0, 0, 0, 0, 0, 0, 0, 0, 0, 0, 0, 0, 0, 0, 0, 0, 0, 0, 0, 0, 0, 0, 0]\n"
     ]
    }
   ],
   "source": [
    "from sentence_transformers import SentenceTransformer, util\n",
    "import mtranslate\n",
    "def translate_text(text, target_lang = 'en'):\n",
    "    return mtranslate.translate(text, target_lang)\n",
    "model = SentenceTransformer('pritamdeka/BioBERT-mnli-snli-scinli-scitail-mednli-stsb')\n",
    "indices = []\n",
    "vec = [0 for i in range(0, len(symptom_columns))]\n",
    "symptom_embeddings = model.encode(symptom_columns)\n",
    "def match_synonyms(user_text, threshold=0.65):\n",
    "    user_embedding = model.encode(user_text)\n",
    "    matched_symptoms = []\n",
    "    for j in user_text.split(','):\n",
    "        user_embedding = model.encode(j)\n",
    "        for i, symptom in enumerate(symptom_columns):\n",
    "            similarity = util.cos_sim(user_embedding, symptom_embeddings[i]).item()\n",
    "            if similarity > threshold:\n",
    "                matched_symptoms.append(symptom)\n",
    "                print(i)\n",
    "                indices.append(i)\n",
    "    return matched_symptoms\n",
    "user_text = \"burning urination, frequent urination, cloudy urine, strong urine odor, pelvic pain, blood in urine, urgency to urinate\"\n",
    "user_text = translate_text(user_text, 'en')\n",
    "print(match_synonyms(user_text))\n",
    "sum = 0\n",
    "for i in indices:\n",
    "    vec[i] = 1\n",
    "for i in vec:\n",
    "    sum += i\n",
    "print(sum)\n",
    "print(vec)"
   ]
  },
  {
   "cell_type": "code",
   "execution_count": 371,
   "metadata": {
    "colab": {
     "base_uri": "https://localhost:8080/"
    },
    "executionInfo": {
     "elapsed": 96,
     "status": "ok",
     "timestamp": 1750055496979,
     "user": {
      "displayName": "2022ITB018 2022ITB018_SOMDATTA",
      "userId": "01276081353466704944"
     },
     "user_tz": -330
    },
    "id": "eF-qzhqF70L_",
    "outputId": "9a87c64d-a1ec-4423-8bf1-a2cfafedad9c"
   },
   "outputs": [
    {
     "name": "stdout",
     "output_type": "stream",
     "text": [
      "{'disease_name': 'Urinary tract infection', 'description': \"A urinary tract infection (UTI) is an infection that affects the urinary system, including the bladder, urethra, and kidneys. It's commonly caused by bacteria, such as Escherichia coli (E. coli), entering the urinary tract. Symptoms include a burning sensation during urination, frequent urge to urinate, cloudy or foul-smelling urine, and lower abdominal pain. In severe cases, UTIs can lead to kidney infections, which may cause fever, chills, and back pain.\", 'medication': ['Antibiotics (e.g., Nitrofurantoin, Ciprofloxacin)', 'Pain relievers (e.g., Phenazopyridine)'], 'precautions': ['Drink plenty of water', 'Maintain good personal hygiene', 'Avoid holding in urine for long periods', 'Wear loose, breathable clothing'], 'things_to_do_now': ['Start prescribed antibiotics', 'Increase water intake', 'Avoid caffeine and acidic foods', 'Consult a doctor if symptoms persist']}\n"
     ]
    }
   ],
   "source": [
    "vec = np.array(vec).reshape(1, -1)\n",
    "a = sclf.predict(vec)\n",
    "a = a[0]\n",
    "print(maga_dic[a])"
   ]
  },
  {
   "cell_type": "code",
   "execution_count": 207,
   "metadata": {
    "executionInfo": {
     "elapsed": 64,
     "status": "ok",
     "timestamp": 1750055511980,
     "user": {
      "displayName": "2022ITB018 2022ITB018_SOMDATTA",
      "userId": "01276081353466704944"
     },
     "user_tz": -330
    },
    "id": "8WQoNjzY70MI"
   },
   "outputs": [],
   "source": [
    "dataset2 = pd.read_csv('diet_recommendations_dataset.csv')\n",
    "dataset2['Diet_Recommendation'].replace({'Low_Carb' : 0, 'Low_Sodium' : 1, 'Balanced' : 2}, inplace = True)\n",
    "labels2 = dataset2['Diet_Recommendation']\n",
    "data2 = dataset2.drop('Patient_ID', axis = 1)\n",
    "data2 = data2.drop('Disease_Type', axis = 1)\n",
    "data2 = data2.drop('Severity', axis = 1)\n",
    "data2 = data2.drop('Dietary_Restrictions', axis = 1)\n",
    "data2 = data2.drop('Allergies', axis = 1)\n",
    "data2 = data2.drop('Adherence_to_Diet_Plan', axis = 1)\n",
    "data2 = data2.drop('Dietary_Nutrient_Imbalance_Score', axis = 1)\n",
    "data2 = data2.drop('Diet_Recommendation', axis = 1)\n",
    "data2 = data2.drop('Glucose_mg/dL', axis = 1)\n",
    "data2 = data2.drop('Weekly_Exercise_Hours', axis = 1)\n",
    "data2['Gender'].replace({'Male' : 0, 'Female': 1}, inplace = True)\n",
    "data2['Physical_Activity_Level'].replace({'Sedentary' : 0, 'Moderate' : 1, 'Active' : 2}, inplace = True)\n",
    "data2['Preferred_Cuisine'].replace({'Mexican' : 0, 'Chinese' : 1, 'Italian' : 2, 'Indian' : 3}, inplace = True)"
   ]
  },
  {
   "cell_type": "code",
   "execution_count": 208,
   "metadata": {
    "colab": {
     "base_uri": "https://localhost:8080/"
    },
    "executionInfo": {
     "elapsed": 2885,
     "status": "ok",
     "timestamp": 1750055523941,
     "user": {
      "displayName": "2022ITB018 2022ITB018_SOMDATTA",
      "userId": "01276081353466704944"
     },
     "user_tz": -330
    },
    "id": "reea9vRH70MJ",
    "outputId": "042be570-ce07-4954-c5cf-98d7095bc9f0"
   },
   "outputs": [
    {
     "name": "stdout",
     "output_type": "stream",
     "text": [
      "1.0\n"
     ]
    }
   ],
   "source": [
    "clf5 = RandomForestClassifier(n_estimators = 100, random_state = 42)\n",
    "clf6 = KNeighborsClassifier(n_neighbors = 5, weights = 'distance')\n",
    "clf7 = HistGradientBoostingClassifier(random_state = 42)\n",
    "lr2 = KNeighborsClassifier(n_neighbors = 5, weights = 'distance')\n",
    "sclf2 = StackingClassifier(classifiers = [clf5, clf6, clf7], meta_classifier = lr2)\n",
    "sclf2.fit(data2, labels2)\n",
    "predictions = sclf2.predict(data2)\n",
    "print(accuracy_score(labels2, predictions))"
   ]
  },
  {
   "cell_type": "code",
   "execution_count": 209,
   "metadata": {
    "colab": {
     "base_uri": "https://localhost:8080/"
    },
    "executionInfo": {
     "elapsed": 42,
     "status": "ok",
     "timestamp": 1750055536511,
     "user": {
      "displayName": "2022ITB018 2022ITB018_SOMDATTA",
      "userId": "01276081353466704944"
     },
     "user_tz": -330
    },
    "id": "xaEmLX9k70MM",
    "outputId": "deda4f6a-8c93-4dba-e128-edd10c3bfe8b"
   },
   "outputs": [
    {
     "name": "stdout",
     "output_type": "stream",
     "text": [
      "Balanced\n"
     ]
    }
   ],
   "source": [
    "vec2 = [0, 0, 0, 0, 0, 0, 0, 0, 0, 0]\n",
    "vec2 = np.array(vec2).reshape(1, -1)\n",
    "b = sclf2.predict(vec2)\n",
    "b = b[0]\n",
    "mapping3 = {0: 'Low_Carb', 1: 'Low_Sodium', 2: 'Balanced'}\n",
    "print(mapping3[b])"
   ]
  },
  {
   "cell_type": "code",
   "execution_count": 18,
   "metadata": {
    "colab": {
     "base_uri": "https://localhost:8080/"
    },
    "executionInfo": {
     "elapsed": 48,
     "status": "ok",
     "timestamp": 1750055892561,
     "user": {
      "displayName": "2022ITB018 2022ITB018_SOMDATTA",
      "userId": "01276081353466704944"
     },
     "user_tz": -330
    },
    "id": "g9vi8JGt70MO",
    "outputId": "faecaf80-ef21-44c8-a607-458daa5e0252"
   },
   "outputs": [
    {
     "name": "stdout",
     "output_type": "stream",
     "text": [
      "['Yoga (focus on flexibility and strength, 30 minutes)', 'Light strength training (bodyweight and resistance bands, 2-3 times per week)', 'Pilates (core strengthening, 20-30 minutes)', 'Brisk walking (20-30 minutes)', 'Cycling (low-intensity, 20-30 minutes)', 'Swimming (gentle strokes, 30 minutes)', 'Tai Chi (for balance and relaxation)', 'Resistance exercises (to build muscle mass)']\n"
     ]
    }
   ],
   "source": [
    "x = 20\n",
    "print(bmi_pred(x))"
   ]
  },
  {
   "cell_type": "code",
   "execution_count": 353,
   "metadata": {},
   "outputs": [
    {
     "data": {
      "text/plain": [
       "['mapping2.pkl']"
      ]
     },
     "execution_count": 353,
     "metadata": {},
     "output_type": "execute_result"
    }
   ],
   "source": [
    "import joblib\n",
    "\n",
    "# Save your trained model\n",
    "joblib.dump(sclf, 'model.pkl')\n",
    "\n",
    "# Save the symptom list\n",
    "joblib.dump(symptom_columns, 'symptom_columns.pkl')\n",
    "\n",
    "# Save the label encoder (for decoding predictions)\n",
    "joblib.dump(mapping2, 'mapping2.pkl')\n"
   ]
  },
  {
   "cell_type": "code",
   "execution_count": 20,
   "metadata": {},
   "outputs": [
    {
     "data": {
      "text/plain": [
       "['diet_model.pkl']"
      ]
     },
     "execution_count": 20,
     "metadata": {},
     "output_type": "execute_result"
    }
   ],
   "source": [
    "import joblib\n",
    "\n",
    "# Save the trained diet model\n",
    "joblib.dump(sclf2, 'diet_model.pkl')\n"
   ]
  },
  {
   "cell_type": "code",
   "execution_count": 21,
   "metadata": {},
   "outputs": [
    {
     "data": {
      "text/plain": [
       "['diet_mapping.pkl']"
      ]
     },
     "execution_count": 21,
     "metadata": {},
     "output_type": "execute_result"
    }
   ],
   "source": [
    "# Save diet model\n",
    "joblib.dump(sclf2, 'diet_model.pkl')\n",
    "\n",
    "# Save the diet label mapping\n",
    "joblib.dump(mapping3, 'diet_mapping.pkl')\n"
   ]
  },
  {
   "cell_type": "code",
   "execution_count": 344,
   "metadata": {},
   "outputs": [
    {
     "data": {
      "text/plain": [
       "['stacking_model.pkl']"
      ]
     },
     "execution_count": 344,
     "metadata": {},
     "output_type": "execute_result"
    }
   ],
   "source": [
    "# model.py\n",
    "\n",
    "# After training\n",
    "sclf.fit(X_train, y_train)\n",
    "\n",
    "# Save or expose sclf\n",
    "import joblib\n",
    "joblib.dump(sclf, 'stacking_model.pkl')\n"
   ]
  }
 ],
 "metadata": {
  "colab": {
   "authorship_tag": "ABX9TyMx2Ue2iEfj88GMTKb3U3Zq",
   "provenance": []
  },
  "kernelspec": {
   "display_name": "Python 3",
   "name": "python3"
  },
  "language_info": {
   "codemirror_mode": {
    "name": "ipython",
    "version": 3
   },
   "file_extension": ".py",
   "mimetype": "text/x-python",
   "name": "python",
   "nbconvert_exporter": "python",
   "pygments_lexer": "ipython3",
   "version": "3.13.2"
  }
 },
 "nbformat": 4,
 "nbformat_minor": 0
}
